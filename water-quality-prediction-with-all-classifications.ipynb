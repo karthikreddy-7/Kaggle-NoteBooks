{
 "cells": [
  {
   "cell_type": "code",
   "execution_count": 1,
   "id": "f421de63",
   "metadata": {
    "_cell_guid": "b1076dfc-b9ad-4769-8c92-a6c4dae69d19",
    "_uuid": "8f2839f25d086af736a60e9eeb907d3b93b6e0e5",
    "execution": {
     "iopub.execute_input": "2023-10-10T05:44:12.753706Z",
     "iopub.status.busy": "2023-10-10T05:44:12.753046Z",
     "iopub.status.idle": "2023-10-10T05:44:13.117942Z",
     "shell.execute_reply": "2023-10-10T05:44:13.116884Z"
    },
    "papermill": {
     "duration": 0.373797,
     "end_time": "2023-10-10T05:44:13.119973",
     "exception": false,
     "start_time": "2023-10-10T05:44:12.746176",
     "status": "completed"
    },
    "tags": []
   },
   "outputs": [
    {
     "name": "stdout",
     "output_type": "stream",
     "text": [
      "/kaggle/input/water-potability/water_potability.csv\n"
     ]
    }
   ],
   "source": [
    "# This Python 3 environment comes with many helpful analytics libraries installed\n",
    "# It is defined by the kaggle/python Docker image: https://github.com/kaggle/docker-python\n",
    "# For example, here's several helpful packages to load\n",
    "\n",
    "import numpy as np # linear algebra\n",
    "import pandas as pd # data processing, CSV file I/O (e.g. pd.read_csv)\n",
    "\n",
    "# Input data files are available in the read-only \"../input/\" directory\n",
    "# For example, running this (by clicking run or pressing Shift+Enter) will list all files under the input directory\n",
    "\n",
    "import os\n",
    "for dirname, _, filenames in os.walk('/kaggle/input'):\n",
    "    for filename in filenames:\n",
    "        print(os.path.join(dirname, filename))\n",
    "\n",
    "# You can write up to 20GB to the current directory (/kaggle/working/) that gets preserved as output when you create a version using \"Save & Run All\" \n",
    "# You can also write temporary files to /kaggle/temp/, but they won't be saved outside of the current session"
   ]
  },
  {
   "cell_type": "code",
   "execution_count": 2,
   "id": "a04732d8",
   "metadata": {
    "execution": {
     "iopub.execute_input": "2023-10-10T05:44:13.133598Z",
     "iopub.status.busy": "2023-10-10T05:44:13.133150Z",
     "iopub.status.idle": "2023-10-10T05:44:13.168647Z",
     "shell.execute_reply": "2023-10-10T05:44:13.167252Z"
    },
    "papermill": {
     "duration": 0.044073,
     "end_time": "2023-10-10T05:44:13.171013",
     "exception": false,
     "start_time": "2023-10-10T05:44:13.126940",
     "status": "completed"
    },
    "tags": []
   },
   "outputs": [],
   "source": [
    "data=pd.read_csv(\"/kaggle/input/water-potability/water_potability.csv\")"
   ]
  },
  {
   "cell_type": "code",
   "execution_count": 3,
   "id": "6e8912e3",
   "metadata": {
    "execution": {
     "iopub.execute_input": "2023-10-10T05:44:13.182296Z",
     "iopub.status.busy": "2023-10-10T05:44:13.181984Z",
     "iopub.status.idle": "2023-10-10T05:44:13.205904Z",
     "shell.execute_reply": "2023-10-10T05:44:13.204914Z"
    },
    "papermill": {
     "duration": 0.03161,
     "end_time": "2023-10-10T05:44:13.207684",
     "exception": false,
     "start_time": "2023-10-10T05:44:13.176074",
     "status": "completed"
    },
    "tags": []
   },
   "outputs": [
    {
     "data": {
      "text/html": [
       "<div>\n",
       "<style scoped>\n",
       "    .dataframe tbody tr th:only-of-type {\n",
       "        vertical-align: middle;\n",
       "    }\n",
       "\n",
       "    .dataframe tbody tr th {\n",
       "        vertical-align: top;\n",
       "    }\n",
       "\n",
       "    .dataframe thead th {\n",
       "        text-align: right;\n",
       "    }\n",
       "</style>\n",
       "<table border=\"1\" class=\"dataframe\">\n",
       "  <thead>\n",
       "    <tr style=\"text-align: right;\">\n",
       "      <th></th>\n",
       "      <th>ph</th>\n",
       "      <th>Hardness</th>\n",
       "      <th>Solids</th>\n",
       "      <th>Chloramines</th>\n",
       "      <th>Sulfate</th>\n",
       "      <th>Conductivity</th>\n",
       "      <th>Organic_carbon</th>\n",
       "      <th>Trihalomethanes</th>\n",
       "      <th>Turbidity</th>\n",
       "      <th>Potability</th>\n",
       "    </tr>\n",
       "  </thead>\n",
       "  <tbody>\n",
       "    <tr>\n",
       "      <th>0</th>\n",
       "      <td>NaN</td>\n",
       "      <td>204.890455</td>\n",
       "      <td>20791.318981</td>\n",
       "      <td>7.300212</td>\n",
       "      <td>368.516441</td>\n",
       "      <td>564.308654</td>\n",
       "      <td>10.379783</td>\n",
       "      <td>86.990970</td>\n",
       "      <td>2.963135</td>\n",
       "      <td>0</td>\n",
       "    </tr>\n",
       "    <tr>\n",
       "      <th>1</th>\n",
       "      <td>3.716080</td>\n",
       "      <td>129.422921</td>\n",
       "      <td>18630.057858</td>\n",
       "      <td>6.635246</td>\n",
       "      <td>NaN</td>\n",
       "      <td>592.885359</td>\n",
       "      <td>15.180013</td>\n",
       "      <td>56.329076</td>\n",
       "      <td>4.500656</td>\n",
       "      <td>0</td>\n",
       "    </tr>\n",
       "    <tr>\n",
       "      <th>2</th>\n",
       "      <td>8.099124</td>\n",
       "      <td>224.236259</td>\n",
       "      <td>19909.541732</td>\n",
       "      <td>9.275884</td>\n",
       "      <td>NaN</td>\n",
       "      <td>418.606213</td>\n",
       "      <td>16.868637</td>\n",
       "      <td>66.420093</td>\n",
       "      <td>3.055934</td>\n",
       "      <td>0</td>\n",
       "    </tr>\n",
       "    <tr>\n",
       "      <th>3</th>\n",
       "      <td>8.316766</td>\n",
       "      <td>214.373394</td>\n",
       "      <td>22018.417441</td>\n",
       "      <td>8.059332</td>\n",
       "      <td>356.886136</td>\n",
       "      <td>363.266516</td>\n",
       "      <td>18.436524</td>\n",
       "      <td>100.341674</td>\n",
       "      <td>4.628771</td>\n",
       "      <td>0</td>\n",
       "    </tr>\n",
       "    <tr>\n",
       "      <th>4</th>\n",
       "      <td>9.092223</td>\n",
       "      <td>181.101509</td>\n",
       "      <td>17978.986339</td>\n",
       "      <td>6.546600</td>\n",
       "      <td>310.135738</td>\n",
       "      <td>398.410813</td>\n",
       "      <td>11.558279</td>\n",
       "      <td>31.997993</td>\n",
       "      <td>4.075075</td>\n",
       "      <td>0</td>\n",
       "    </tr>\n",
       "  </tbody>\n",
       "</table>\n",
       "</div>"
      ],
      "text/plain": [
       "         ph    Hardness        Solids  Chloramines     Sulfate  Conductivity  \\\n",
       "0       NaN  204.890455  20791.318981     7.300212  368.516441    564.308654   \n",
       "1  3.716080  129.422921  18630.057858     6.635246         NaN    592.885359   \n",
       "2  8.099124  224.236259  19909.541732     9.275884         NaN    418.606213   \n",
       "3  8.316766  214.373394  22018.417441     8.059332  356.886136    363.266516   \n",
       "4  9.092223  181.101509  17978.986339     6.546600  310.135738    398.410813   \n",
       "\n",
       "   Organic_carbon  Trihalomethanes  Turbidity  Potability  \n",
       "0       10.379783        86.990970   2.963135           0  \n",
       "1       15.180013        56.329076   4.500656           0  \n",
       "2       16.868637        66.420093   3.055934           0  \n",
       "3       18.436524       100.341674   4.628771           0  \n",
       "4       11.558279        31.997993   4.075075           0  "
      ]
     },
     "execution_count": 3,
     "metadata": {},
     "output_type": "execute_result"
    }
   ],
   "source": [
    "data.head()"
   ]
  },
  {
   "cell_type": "code",
   "execution_count": 4,
   "id": "bd1201fb",
   "metadata": {
    "execution": {
     "iopub.execute_input": "2023-10-10T05:44:13.219908Z",
     "iopub.status.busy": "2023-10-10T05:44:13.219562Z",
     "iopub.status.idle": "2023-10-10T05:44:13.247033Z",
     "shell.execute_reply": "2023-10-10T05:44:13.245710Z"
    },
    "papermill": {
     "duration": 0.03619,
     "end_time": "2023-10-10T05:44:13.249346",
     "exception": false,
     "start_time": "2023-10-10T05:44:13.213156",
     "status": "completed"
    },
    "tags": []
   },
   "outputs": [
    {
     "name": "stdout",
     "output_type": "stream",
     "text": [
      "<class 'pandas.core.frame.DataFrame'>\n",
      "RangeIndex: 3276 entries, 0 to 3275\n",
      "Data columns (total 10 columns):\n",
      " #   Column           Non-Null Count  Dtype  \n",
      "---  ------           --------------  -----  \n",
      " 0   ph               2785 non-null   float64\n",
      " 1   Hardness         3276 non-null   float64\n",
      " 2   Solids           3276 non-null   float64\n",
      " 3   Chloramines      3276 non-null   float64\n",
      " 4   Sulfate          2495 non-null   float64\n",
      " 5   Conductivity     3276 non-null   float64\n",
      " 6   Organic_carbon   3276 non-null   float64\n",
      " 7   Trihalomethanes  3114 non-null   float64\n",
      " 8   Turbidity        3276 non-null   float64\n",
      " 9   Potability       3276 non-null   int64  \n",
      "dtypes: float64(9), int64(1)\n",
      "memory usage: 256.1 KB\n"
     ]
    }
   ],
   "source": [
    "data.info()"
   ]
  },
  {
   "cell_type": "code",
   "execution_count": 5,
   "id": "4083d64c",
   "metadata": {
    "execution": {
     "iopub.execute_input": "2023-10-10T05:44:13.261851Z",
     "iopub.status.busy": "2023-10-10T05:44:13.261429Z",
     "iopub.status.idle": "2023-10-10T05:44:13.269348Z",
     "shell.execute_reply": "2023-10-10T05:44:13.268358Z"
    },
    "papermill": {
     "duration": 0.016571,
     "end_time": "2023-10-10T05:44:13.271339",
     "exception": false,
     "start_time": "2023-10-10T05:44:13.254768",
     "status": "completed"
    },
    "tags": []
   },
   "outputs": [
    {
     "data": {
      "text/plain": [
       "array([0, 1])"
      ]
     },
     "execution_count": 5,
     "metadata": {},
     "output_type": "execute_result"
    }
   ],
   "source": [
    "data['Potability'].unique()"
   ]
  },
  {
   "cell_type": "markdown",
   "id": "61512673",
   "metadata": {
    "papermill": {
     "duration": 0.005299,
     "end_time": "2023-10-10T05:44:13.282001",
     "exception": false,
     "start_time": "2023-10-10T05:44:13.276702",
     "status": "completed"
    },
    "tags": []
   },
   "source": [
    "## DATA PRE-PROCESSING"
   ]
  },
  {
   "cell_type": "markdown",
   "id": "62847622",
   "metadata": {
    "papermill": {
     "duration": 0.005047,
     "end_time": "2023-10-10T05:44:13.292318",
     "exception": false,
     "start_time": "2023-10-10T05:44:13.287271",
     "status": "completed"
    },
    "tags": []
   },
   "source": [
    "#### Finding Missing Values"
   ]
  },
  {
   "cell_type": "code",
   "execution_count": 6,
   "id": "4abc9d55",
   "metadata": {
    "execution": {
     "iopub.execute_input": "2023-10-10T05:44:13.304972Z",
     "iopub.status.busy": "2023-10-10T05:44:13.304303Z",
     "iopub.status.idle": "2023-10-10T05:44:13.311955Z",
     "shell.execute_reply": "2023-10-10T05:44:13.311133Z"
    },
    "papermill": {
     "duration": 0.016076,
     "end_time": "2023-10-10T05:44:13.313768",
     "exception": false,
     "start_time": "2023-10-10T05:44:13.297692",
     "status": "completed"
    },
    "tags": []
   },
   "outputs": [
    {
     "data": {
      "text/plain": [
       "ph                 491\n",
       "Hardness             0\n",
       "Solids               0\n",
       "Chloramines          0\n",
       "Sulfate            781\n",
       "Conductivity         0\n",
       "Organic_carbon       0\n",
       "Trihalomethanes    162\n",
       "Turbidity            0\n",
       "Potability           0\n",
       "dtype: int64"
      ]
     },
     "execution_count": 6,
     "metadata": {},
     "output_type": "execute_result"
    }
   ],
   "source": [
    "data.isnull().sum()"
   ]
  },
  {
   "cell_type": "code",
   "execution_count": 7,
   "id": "883750f9",
   "metadata": {
    "execution": {
     "iopub.execute_input": "2023-10-10T05:44:13.326597Z",
     "iopub.status.busy": "2023-10-10T05:44:13.326011Z",
     "iopub.status.idle": "2023-10-10T05:44:13.331756Z",
     "shell.execute_reply": "2023-10-10T05:44:13.331042Z"
    },
    "papermill": {
     "duration": 0.014269,
     "end_time": "2023-10-10T05:44:13.333634",
     "exception": false,
     "start_time": "2023-10-10T05:44:13.319365",
     "status": "completed"
    },
    "tags": []
   },
   "outputs": [
    {
     "data": {
      "text/plain": [
       "(3276, 10)"
      ]
     },
     "execution_count": 7,
     "metadata": {},
     "output_type": "execute_result"
    }
   ],
   "source": [
    "data.shape"
   ]
  },
  {
   "cell_type": "markdown",
   "id": "6b195ce1",
   "metadata": {
    "papermill": {
     "duration": 0.005438,
     "end_time": "2023-10-10T05:44:13.344648",
     "exception": false,
     "start_time": "2023-10-10T05:44:13.339210",
     "status": "completed"
    },
    "tags": []
   },
   "source": [
    "### Replacing Missing Values with any of the central Tendencies. I am choosing Mean"
   ]
  },
  {
   "cell_type": "code",
   "execution_count": 8,
   "id": "c635a1aa",
   "metadata": {
    "execution": {
     "iopub.execute_input": "2023-10-10T05:44:13.357712Z",
     "iopub.status.busy": "2023-10-10T05:44:13.357021Z",
     "iopub.status.idle": "2023-10-10T05:44:13.364588Z",
     "shell.execute_reply": "2023-10-10T05:44:13.363876Z"
    },
    "papermill": {
     "duration": 0.016432,
     "end_time": "2023-10-10T05:44:13.366578",
     "exception": false,
     "start_time": "2023-10-10T05:44:13.350146",
     "status": "completed"
    },
    "tags": []
   },
   "outputs": [],
   "source": [
    "data=data.dropna()"
   ]
  },
  {
   "cell_type": "code",
   "execution_count": 9,
   "id": "0f936fcc",
   "metadata": {
    "execution": {
     "iopub.execute_input": "2023-10-10T05:44:13.379948Z",
     "iopub.status.busy": "2023-10-10T05:44:13.379092Z",
     "iopub.status.idle": "2023-10-10T05:44:13.392725Z",
     "shell.execute_reply": "2023-10-10T05:44:13.391734Z"
    },
    "papermill": {
     "duration": 0.022297,
     "end_time": "2023-10-10T05:44:13.394487",
     "exception": false,
     "start_time": "2023-10-10T05:44:13.372190",
     "status": "completed"
    },
    "tags": []
   },
   "outputs": [
    {
     "data": {
      "text/html": [
       "<div>\n",
       "<style scoped>\n",
       "    .dataframe tbody tr th:only-of-type {\n",
       "        vertical-align: middle;\n",
       "    }\n",
       "\n",
       "    .dataframe tbody tr th {\n",
       "        vertical-align: top;\n",
       "    }\n",
       "\n",
       "    .dataframe thead th {\n",
       "        text-align: right;\n",
       "    }\n",
       "</style>\n",
       "<table border=\"1\" class=\"dataframe\">\n",
       "  <thead>\n",
       "    <tr style=\"text-align: right;\">\n",
       "      <th></th>\n",
       "      <th>ph</th>\n",
       "      <th>Hardness</th>\n",
       "      <th>Solids</th>\n",
       "      <th>Chloramines</th>\n",
       "      <th>Sulfate</th>\n",
       "      <th>Conductivity</th>\n",
       "      <th>Organic_carbon</th>\n",
       "      <th>Trihalomethanes</th>\n",
       "      <th>Turbidity</th>\n",
       "      <th>Potability</th>\n",
       "    </tr>\n",
       "  </thead>\n",
       "  <tbody>\n",
       "    <tr>\n",
       "      <th>3</th>\n",
       "      <td>8.316766</td>\n",
       "      <td>214.373394</td>\n",
       "      <td>22018.417441</td>\n",
       "      <td>8.059332</td>\n",
       "      <td>356.886136</td>\n",
       "      <td>363.266516</td>\n",
       "      <td>18.436524</td>\n",
       "      <td>100.341674</td>\n",
       "      <td>4.628771</td>\n",
       "      <td>0</td>\n",
       "    </tr>\n",
       "    <tr>\n",
       "      <th>4</th>\n",
       "      <td>9.092223</td>\n",
       "      <td>181.101509</td>\n",
       "      <td>17978.986339</td>\n",
       "      <td>6.546600</td>\n",
       "      <td>310.135738</td>\n",
       "      <td>398.410813</td>\n",
       "      <td>11.558279</td>\n",
       "      <td>31.997993</td>\n",
       "      <td>4.075075</td>\n",
       "      <td>0</td>\n",
       "    </tr>\n",
       "    <tr>\n",
       "      <th>5</th>\n",
       "      <td>5.584087</td>\n",
       "      <td>188.313324</td>\n",
       "      <td>28748.687739</td>\n",
       "      <td>7.544869</td>\n",
       "      <td>326.678363</td>\n",
       "      <td>280.467916</td>\n",
       "      <td>8.399735</td>\n",
       "      <td>54.917862</td>\n",
       "      <td>2.559708</td>\n",
       "      <td>0</td>\n",
       "    </tr>\n",
       "    <tr>\n",
       "      <th>6</th>\n",
       "      <td>10.223862</td>\n",
       "      <td>248.071735</td>\n",
       "      <td>28749.716544</td>\n",
       "      <td>7.513408</td>\n",
       "      <td>393.663396</td>\n",
       "      <td>283.651634</td>\n",
       "      <td>13.789695</td>\n",
       "      <td>84.603556</td>\n",
       "      <td>2.672989</td>\n",
       "      <td>0</td>\n",
       "    </tr>\n",
       "    <tr>\n",
       "      <th>7</th>\n",
       "      <td>8.635849</td>\n",
       "      <td>203.361523</td>\n",
       "      <td>13672.091764</td>\n",
       "      <td>4.563009</td>\n",
       "      <td>303.309771</td>\n",
       "      <td>474.607645</td>\n",
       "      <td>12.363817</td>\n",
       "      <td>62.798309</td>\n",
       "      <td>4.401425</td>\n",
       "      <td>0</td>\n",
       "    </tr>\n",
       "  </tbody>\n",
       "</table>\n",
       "</div>"
      ],
      "text/plain": [
       "          ph    Hardness        Solids  Chloramines     Sulfate  Conductivity  \\\n",
       "3   8.316766  214.373394  22018.417441     8.059332  356.886136    363.266516   \n",
       "4   9.092223  181.101509  17978.986339     6.546600  310.135738    398.410813   \n",
       "5   5.584087  188.313324  28748.687739     7.544869  326.678363    280.467916   \n",
       "6  10.223862  248.071735  28749.716544     7.513408  393.663396    283.651634   \n",
       "7   8.635849  203.361523  13672.091764     4.563009  303.309771    474.607645   \n",
       "\n",
       "   Organic_carbon  Trihalomethanes  Turbidity  Potability  \n",
       "3       18.436524       100.341674   4.628771           0  \n",
       "4       11.558279        31.997993   4.075075           0  \n",
       "5        8.399735        54.917862   2.559708           0  \n",
       "6       13.789695        84.603556   2.672989           0  \n",
       "7       12.363817        62.798309   4.401425           0  "
      ]
     },
     "execution_count": 9,
     "metadata": {},
     "output_type": "execute_result"
    }
   ],
   "source": [
    "data.head()"
   ]
  },
  {
   "cell_type": "markdown",
   "id": "4c713e31",
   "metadata": {
    "papermill": {
     "duration": 0.005663,
     "end_time": "2023-10-10T05:44:13.405953",
     "exception": false,
     "start_time": "2023-10-10T05:44:13.400290",
     "status": "completed"
    },
    "tags": []
   },
   "source": [
    "### Finding Outliers"
   ]
  },
  {
   "cell_type": "markdown",
   "id": "2a572d26",
   "metadata": {
    "papermill": {
     "duration": 0.005445,
     "end_time": "2023-10-10T05:44:13.417019",
     "exception": false,
     "start_time": "2023-10-10T05:44:13.411574",
     "status": "completed"
    },
    "tags": []
   },
   "source": [
    "### Choosing IQR Range to find the Outliers"
   ]
  },
  {
   "cell_type": "code",
   "execution_count": 10,
   "id": "bd3741b3",
   "metadata": {
    "execution": {
     "iopub.execute_input": "2023-10-10T05:44:13.430385Z",
     "iopub.status.busy": "2023-10-10T05:44:13.429471Z",
     "iopub.status.idle": "2023-10-10T05:44:13.434924Z",
     "shell.execute_reply": "2023-10-10T05:44:13.434237Z"
    },
    "papermill": {
     "duration": 0.014036,
     "end_time": "2023-10-10T05:44:13.436680",
     "exception": false,
     "start_time": "2023-10-10T05:44:13.422644",
     "status": "completed"
    },
    "tags": []
   },
   "outputs": [],
   "source": [
    "def Outliers(column):\n",
    "    q1=column.quantile(0.25)\n",
    "    q3=column.quantile(0.75)\n",
    "    IQR=q3-q1\n",
    "    lower=q1-1.5*(IQR)\n",
    "    upper=q3+1.5*(IQR)\n",
    "    return column[(column<lower) | (column>upper)]"
   ]
  },
  {
   "cell_type": "code",
   "execution_count": 11,
   "id": "588dd785",
   "metadata": {
    "execution": {
     "iopub.execute_input": "2023-10-10T05:44:13.450138Z",
     "iopub.status.busy": "2023-10-10T05:44:13.449562Z",
     "iopub.status.idle": "2023-10-10T05:44:13.480209Z",
     "shell.execute_reply": "2023-10-10T05:44:13.479418Z"
    },
    "papermill": {
     "duration": 0.04096,
     "end_time": "2023-10-10T05:44:13.483639",
     "exception": false,
     "start_time": "2023-10-10T05:44:13.442679",
     "status": "completed"
    },
    "tags": []
   },
   "outputs": [
    {
     "name": "stdout",
     "output_type": "stream",
     "text": [
      "Potential outliers in column 'ph':\n",
      "9       11.180284\n",
      "317     11.301794\n",
      "692      1.757037\n",
      "726      0.227499\n",
      "783     11.898078\n",
      "810      0.989912\n",
      "1023    11.027880\n",
      "1162    11.244507\n",
      "1231     2.690831\n",
      "1303    12.246928\n",
      "1343     2.569244\n",
      "1353    11.534880\n",
      "2075    14.000000\n",
      "2096    11.568768\n",
      "2165     2.803563\n",
      "2189     2.558103\n",
      "2263    11.235426\n",
      "2300     2.974429\n",
      "2343     2.538116\n",
      "2681     2.376768\n",
      "2895    13.349889\n",
      "2899     1.431782\n",
      "2925    11.563169\n",
      "2932     2.925174\n",
      "2945    11.496702\n",
      "2993     3.102076\n",
      "3017    11.496859\n",
      "3088     2.128531\n",
      "3094     1.985383\n",
      "3108    11.449739\n",
      "3269    11.491011\n",
      "Name: ph, dtype: float64\n",
      "Potential outliers in column 'Hardness':\n",
      "51      100.457615\n",
      "71      116.299330\n",
      "88      300.292476\n",
      "180     278.056321\n",
      "189     112.299485\n",
      "218     276.733569\n",
      "227     112.820254\n",
      "258      98.771644\n",
      "260     280.082411\n",
      "262     278.585105\n",
      "275     280.089655\n",
      "278      81.710895\n",
      "309     113.831112\n",
      "317      77.459586\n",
      "335      94.091307\n",
      "342     282.739017\n",
      "346     278.147524\n",
      "379      73.492234\n",
      "1490    306.627481\n",
      "1536    106.380113\n",
      "1542     97.280909\n",
      "1564    283.997284\n",
      "1649     98.452931\n",
      "1743    107.383327\n",
      "1777    277.116946\n",
      "1829    113.504698\n",
      "1859    117.057314\n",
      "1868    110.865788\n",
      "1989    278.340358\n",
      "2012    281.594235\n",
      "2212    278.036360\n",
      "2343    100.806520\n",
      "2383    107.341982\n",
      "2508    278.081446\n",
      "2512    283.895864\n",
      "2606    116.338278\n",
      "2630    276.699765\n",
      "2632    286.567991\n",
      "2669    278.231754\n",
      "2715    111.478582\n",
      "2775    114.463900\n",
      "2777    111.994028\n",
      "2861    317.338124\n",
      "2877    114.371450\n",
      "3179     94.908977\n",
      "3218    287.975540\n",
      "3230    114.807578\n",
      "3244    277.065713\n",
      "3269     94.812545\n",
      "Name: Hardness, dtype: float64\n",
      "Potential outliers in column 'Solids':\n",
      "142     46140.126850\n",
      "186     45222.506665\n",
      "283     48621.563952\n",
      "378     45249.449033\n",
      "516     45510.584319\n",
      "546     49074.730407\n",
      "583     44652.363872\n",
      "648     44612.751358\n",
      "987     48002.084596\n",
      "1068    55334.702799\n",
      "1106    44586.812651\n",
      "1186    56351.396304\n",
      "1332    45166.912141\n",
      "1343    48204.172192\n",
      "1462    45939.689158\n",
      "1527    46718.555965\n",
      "1554    56488.672413\n",
      "1784    50279.262429\n",
      "1955    49009.924656\n",
      "1984    47022.745845\n",
      "2012    47852.888871\n",
      "2680    48175.852093\n",
      "2891    45050.002276\n",
      "2993    45148.808118\n",
      "3130    50793.898917\n",
      "3162    53735.899194\n",
      "3173    44539.738323\n",
      "3271    47580.991603\n",
      "Name: Solids, dtype: float64\n",
      "Potential outliers in column 'Chloramines':\n",
      "272     12.580026\n",
      "275     13.043806\n",
      "322     11.078872\n",
      "324     11.170789\n",
      "351     13.127000\n",
      "408      2.484380\n",
      "434     12.062536\n",
      "437      2.981379\n",
      "454      2.993744\n",
      "534     11.543190\n",
      "738     11.523598\n",
      "772      2.866073\n",
      "806      2.862535\n",
      "814     11.302831\n",
      "1057    11.086526\n",
      "1099     3.181183\n",
      "1106     2.741712\n",
      "1537    11.129154\n",
      "1698     2.456014\n",
      "1776     3.139553\n",
      "1868     2.621268\n",
      "2110    11.264386\n",
      "2206     2.458609\n",
      "2212     2.785718\n",
      "2300     2.498597\n",
      "2326     3.117441\n",
      "2336    12.626900\n",
      "2344    11.101628\n",
      "2346     2.855790\n",
      "2350     1.390871\n",
      "2352     2.397985\n",
      "2370    11.994290\n",
      "2395    11.448469\n",
      "2401     1.920271\n",
      "2424    12.246394\n",
      "2446    12.227175\n",
      "2447    11.930448\n",
      "2535     2.726766\n",
      "2562    11.299390\n",
      "2566     2.654491\n",
      "2694    12.653362\n",
      "2714     2.648390\n",
      "2796     3.016033\n",
      "Name: Chloramines, dtype: float64\n",
      "Potential outliers in column 'Sulfate':\n",
      "253     187.170714\n",
      "272     192.033592\n",
      "275     180.206746\n",
      "345     444.970552\n",
      "351     182.397370\n",
      "365     187.424131\n",
      "385     209.471058\n",
      "680     223.235816\n",
      "703     224.212503\n",
      "781     445.938391\n",
      "782     229.575561\n",
      "810     444.375731\n",
      "1106    219.148935\n",
      "1186    219.553437\n",
      "1189    227.348460\n",
      "1366    203.444521\n",
      "1412    442.761428\n",
      "1523    206.247229\n",
      "1536    441.587654\n",
      "1537    475.737460\n",
      "1554    129.000000\n",
      "1605    476.539717\n",
      "1662    225.516628\n",
      "1743    460.107069\n",
      "1766    445.359547\n",
      "1773    458.441072\n",
      "1798    214.460834\n",
      "1860    207.890482\n",
      "1888    439.787938\n",
      "2156    447.417962\n",
      "2204    205.935091\n",
      "2318    481.030642\n",
      "2363    437.647163\n",
      "2726    450.914454\n",
      "2779    227.665635\n",
      "2823    440.635509\n",
      "2853    446.724016\n",
      "Name: Sulfate, dtype: float64\n",
      "Potential outliers in column 'Conductivity':\n",
      "66      669.725086\n",
      "342     695.369528\n",
      "1183    656.924128\n",
      "1295    666.690618\n",
      "2134    708.226364\n",
      "2704    753.342620\n",
      "2737    657.570422\n",
      "Name: Conductivity, dtype: float64\n",
      "Potential outliers in column 'Organic_carbon':\n",
      "43      23.917601\n",
      "698     23.569645\n",
      "785      2.200000\n",
      "876      4.966862\n",
      "1390     4.371899\n",
      "1447     4.861631\n",
      "1536     5.218233\n",
      "2057    24.755392\n",
      "2082     5.188466\n",
      "2224     4.466772\n",
      "2236    27.006707\n",
      "2414     5.196717\n",
      "2680     5.159380\n",
      "3169    23.604298\n",
      "Name: Organic_carbon, dtype: float64\n",
      "Potential outliers in column 'Trihalomethanes':\n",
      "61       17.915723\n",
      "133      23.817020\n",
      "350     112.622733\n",
      "518      23.792950\n",
      "531     120.030077\n",
      "698      19.175175\n",
      "1041     23.136611\n",
      "1123      8.577013\n",
      "1156    116.161622\n",
      "1316    114.208671\n",
      "1360     16.291505\n",
      "1630     17.527765\n",
      "1767     22.219327\n",
      "1876    110.431080\n",
      "1962    113.048886\n",
      "2121     15.684877\n",
      "2353     18.015272\n",
      "2376    124.000000\n",
      "2949     14.343161\n",
      "3010    111.115310\n",
      "3102    111.595448\n",
      "3184    114.034946\n",
      "Name: Trihalomethanes, dtype: float64\n",
      "Potential outliers in column 'Turbidity':\n",
      "382     6.494249\n",
      "593     1.680554\n",
      "789     1.812529\n",
      "990     6.357439\n",
      "1073    6.389161\n",
      "1290    1.496101\n",
      "1892    1.492207\n",
      "2377    6.226580\n",
      "2757    6.307678\n",
      "2921    6.494749\n",
      "3042    1.450000\n",
      "Name: Turbidity, dtype: float64\n"
     ]
    }
   ],
   "source": [
    "outliers_dict = {}\n",
    "for column in data.select_dtypes(include=['number']):\n",
    "    outliers = Outliers(data[column])\n",
    "    if not outliers.empty:\n",
    "        outliers_dict[column] = outliers\n",
    "\n",
    "# Print potential outliers for each column\n",
    "for column, outliers in outliers_dict.items():\n",
    "    print(f\"Potential outliers in column '{column}':\")\n",
    "    print(outliers)"
   ]
  },
  {
   "cell_type": "markdown",
   "id": "0eaa7bea",
   "metadata": {
    "papermill": {
     "duration": 0.005772,
     "end_time": "2023-10-10T05:44:13.495628",
     "exception": false,
     "start_time": "2023-10-10T05:44:13.489856",
     "status": "completed"
    },
    "tags": []
   },
   "source": [
    "### Replacing Outliers with Mean Values of the Column"
   ]
  },
  {
   "cell_type": "code",
   "execution_count": 12,
   "id": "3e00aa6a",
   "metadata": {
    "execution": {
     "iopub.execute_input": "2023-10-10T05:44:13.510207Z",
     "iopub.status.busy": "2023-10-10T05:44:13.509850Z",
     "iopub.status.idle": "2023-10-10T05:44:13.515564Z",
     "shell.execute_reply": "2023-10-10T05:44:13.514583Z"
    },
    "papermill": {
     "duration": 0.014959,
     "end_time": "2023-10-10T05:44:13.517559",
     "exception": false,
     "start_time": "2023-10-10T05:44:13.502600",
     "status": "completed"
    },
    "tags": []
   },
   "outputs": [],
   "source": [
    "def replaceOut(column):\n",
    "    q1=column.quantile(0.25)\n",
    "    q3=column.quantile(0.75)\n",
    "    IQR=q3-q1\n",
    "    lower=q1-1.5*(IQR)\n",
    "    upper=q3+1.5*(IQR)\n",
    "    outliers=column[(column<=lower) | (column>=upper)]\n",
    "    if not outliers.empty:\n",
    "        column[outliers.index] = column.mean()\n",
    "    return column\n",
    "    "
   ]
  },
  {
   "cell_type": "code",
   "execution_count": 13,
   "id": "a0bd3126",
   "metadata": {
    "execution": {
     "iopub.execute_input": "2023-10-10T05:44:13.530859Z",
     "iopub.status.busy": "2023-10-10T05:44:13.530504Z",
     "iopub.status.idle": "2023-10-10T05:44:13.534077Z",
     "shell.execute_reply": "2023-10-10T05:44:13.533324Z"
    },
    "papermill": {
     "duration": 0.012152,
     "end_time": "2023-10-10T05:44:13.535633",
     "exception": false,
     "start_time": "2023-10-10T05:44:13.523481",
     "status": "completed"
    },
    "tags": []
   },
   "outputs": [],
   "source": [
    "#for column in data.columns:\n",
    "    #data[column]=replaceOut(data[column])"
   ]
  },
  {
   "cell_type": "code",
   "execution_count": 14,
   "id": "cca6f62f",
   "metadata": {
    "execution": {
     "iopub.execute_input": "2023-10-10T05:44:13.549507Z",
     "iopub.status.busy": "2023-10-10T05:44:13.548923Z",
     "iopub.status.idle": "2023-10-10T05:44:13.555686Z",
     "shell.execute_reply": "2023-10-10T05:44:13.554713Z"
    },
    "papermill": {
     "duration": 0.015947,
     "end_time": "2023-10-10T05:44:13.557648",
     "exception": false,
     "start_time": "2023-10-10T05:44:13.541701",
     "status": "completed"
    },
    "tags": []
   },
   "outputs": [],
   "source": [
    "cor=data.corr()"
   ]
  },
  {
   "cell_type": "code",
   "execution_count": 15,
   "id": "824a7476",
   "metadata": {
    "execution": {
     "iopub.execute_input": "2023-10-10T05:44:13.571179Z",
     "iopub.status.busy": "2023-10-10T05:44:13.570815Z",
     "iopub.status.idle": "2023-10-10T05:44:15.540208Z",
     "shell.execute_reply": "2023-10-10T05:44:15.539129Z"
    },
    "papermill": {
     "duration": 1.979538,
     "end_time": "2023-10-10T05:44:15.543240",
     "exception": false,
     "start_time": "2023-10-10T05:44:13.563702",
     "status": "completed"
    },
    "tags": []
   },
   "outputs": [
    {
     "data": {
      "image/png": "[encoded data removed]",
      "text/plain": [
       "<Figure size 640x480 with 2 Axes>"
      ]
     },
     "metadata": {},
     "output_type": "display_data"
    }
   ],
   "source": [
    "import seaborn as sns\n",
    "import matplotlib.pyplot as plt\n",
    "sns.heatmap(cor,annot=True,cmap='coolwarm')\n",
    "plt.show()"
   ]
  },
  {
   "cell_type": "markdown",
   "id": "dc45bc41",
   "metadata": {
    "papermill": {
     "duration": 0.00739,
     "end_time": "2023-10-10T05:44:15.558410",
     "exception": false,
     "start_time": "2023-10-10T05:44:15.551020",
     "status": "completed"
    },
    "tags": []
   },
   "source": [
    "### Test,Train,Split"
   ]
  },
  {
   "cell_type": "code",
   "execution_count": 16,
   "id": "a258cecb",
   "metadata": {
    "execution": {
     "iopub.execute_input": "2023-10-10T05:44:15.575930Z",
     "iopub.status.busy": "2023-10-10T05:44:15.574820Z",
     "iopub.status.idle": "2023-10-10T05:44:15.583404Z",
     "shell.execute_reply": "2023-10-10T05:44:15.582467Z"
    },
    "papermill": {
     "duration": 0.019538,
     "end_time": "2023-10-10T05:44:15.585415",
     "exception": false,
     "start_time": "2023-10-10T05:44:15.565877",
     "status": "completed"
    },
    "tags": []
   },
   "outputs": [],
   "source": [
    "X=data.drop('Potability',axis=1)\n",
    "Y=data['Potability']"
   ]
  },
  {
   "cell_type": "markdown",
   "id": "ebf2fb24",
   "metadata": {
    "papermill": {
     "duration": 0.007431,
     "end_time": "2023-10-10T05:44:15.600603",
     "exception": false,
     "start_time": "2023-10-10T05:44:15.593172",
     "status": "completed"
    },
    "tags": []
   },
   "source": [
    "### DATA NORMALIZATION AND STANDARDIZATION"
   ]
  },
  {
   "cell_type": "code",
   "execution_count": 17,
   "id": "cc0a2c0e",
   "metadata": {
    "execution": {
     "iopub.execute_input": "2023-10-10T05:44:15.617771Z",
     "iopub.status.busy": "2023-10-10T05:44:15.617372Z",
     "iopub.status.idle": "2023-10-10T05:44:15.785216Z",
     "shell.execute_reply": "2023-10-10T05:44:15.784249Z"
    },
    "papermill": {
     "duration": 0.179249,
     "end_time": "2023-10-10T05:44:15.787649",
     "exception": false,
     "start_time": "2023-10-10T05:44:15.608400",
     "status": "completed"
    },
    "tags": []
   },
   "outputs": [],
   "source": [
    "from sklearn.preprocessing import MinMaxScaler,StandardScaler\n",
    "\n",
    "normalizer=MinMaxScaler()\n",
    "standardizer=StandardScaler()\n",
    "X= normalizer.fit_transform(X)\n",
    "X=standardizer.fit_transform(X)"
   ]
  },
  {
   "cell_type": "code",
   "execution_count": 18,
   "id": "bfdb4d56",
   "metadata": {
    "execution": {
     "iopub.execute_input": "2023-10-10T05:44:15.805069Z",
     "iopub.status.busy": "2023-10-10T05:44:15.804631Z",
     "iopub.status.idle": "2023-10-10T05:44:15.911623Z",
     "shell.execute_reply": "2023-10-10T05:44:15.910892Z"
    },
    "papermill": {
     "duration": 0.118372,
     "end_time": "2023-10-10T05:44:15.913787",
     "exception": false,
     "start_time": "2023-10-10T05:44:15.795415",
     "status": "completed"
    },
    "tags": []
   },
   "outputs": [],
   "source": [
    "from sklearn.model_selection import train_test_split\n",
    "X_train,X_test,Y_train,Y_test=train_test_split(X,Y,test_size=0.2,random_state=62)"
   ]
  },
  {
   "cell_type": "markdown",
   "id": "1c485255",
   "metadata": {
    "papermill": {
     "duration": 0.007162,
     "end_time": "2023-10-10T05:44:15.928701",
     "exception": false,
     "start_time": "2023-10-10T05:44:15.921539",
     "status": "completed"
    },
    "tags": []
   },
   "source": [
    "### Model Building"
   ]
  },
  {
   "cell_type": "code",
   "execution_count": 19,
   "id": "b78430b4",
   "metadata": {
    "execution": {
     "iopub.execute_input": "2023-10-10T05:44:15.945699Z",
     "iopub.status.busy": "2023-10-10T05:44:15.944719Z",
     "iopub.status.idle": "2023-10-10T05:44:18.240580Z",
     "shell.execute_reply": "2023-10-10T05:44:18.239426Z"
    },
    "papermill": {
     "duration": 2.306777,
     "end_time": "2023-10-10T05:44:18.242861",
     "exception": false,
     "start_time": "2023-10-10T05:44:15.936084",
     "status": "completed"
    },
    "tags": []
   },
   "outputs": [
    {
     "name": "stdout",
     "output_type": "stream",
     "text": [
      "Logistic Regression  with accuracy : 0.6178660049627791\n",
      "Naive Bayes  with accuracy : 0.6327543424317618\n",
      "Support Vector Machine  with accuracy : 0.7245657568238213\n",
      "K-Nearest Neighbors  with accuracy : 0.6550868486352357\n",
      "Decision Tree  with accuracy : 0.6104218362282878\n",
      "Random Forest  with accuracy : 0.7096774193548387\n",
      "Bagging  with accuracy : 0.6650124069478908\n",
      "AdaBoost  with accuracy : 0.6004962779156328\n",
      "Gradient Boosting  with accuracy : 0.6898263027295285\n",
      "Extra Trees  with accuracy : 0.5806451612903226\n"
     ]
    }
   ],
   "source": [
    "from sklearn.linear_model import LogisticRegression\n",
    "from sklearn.naive_bayes import GaussianNB\n",
    "from sklearn.svm import SVC\n",
    "from sklearn.neighbors import KNeighborsClassifier\n",
    "from sklearn.tree import DecisionTreeClassifier\n",
    "from sklearn.tree import ExtraTreeClassifier\n",
    "from sklearn.ensemble import RandomForestClassifier\n",
    "from sklearn.ensemble import BaggingClassifier\n",
    "from sklearn.ensemble import GradientBoostingClassifier\n",
    "from sklearn.ensemble import AdaBoostClassifier\n",
    "from sklearn.metrics import accuracy_score\n",
    "\n",
    "# create instances of all models\n",
    "models = {\n",
    "    'Logistic Regression': LogisticRegression(),\n",
    "    'Naive Bayes': GaussianNB(),\n",
    "    'Support Vector Machine': SVC(),\n",
    "    'K-Nearest Neighbors': KNeighborsClassifier(),\n",
    "    'Decision Tree': DecisionTreeClassifier(),\n",
    "    'Random Forest': RandomForestClassifier(),\n",
    "    'Bagging': BaggingClassifier(),\n",
    "    'AdaBoost': AdaBoostClassifier(),\n",
    "    'Gradient Boosting': GradientBoostingClassifier(),\n",
    "    'Extra Trees': ExtraTreeClassifier(),\n",
    "}\n",
    "\n",
    "\n",
    "for name, md in models.items():\n",
    "    md.fit(X_train,Y_train)\n",
    "    ypred = md.predict(X_test)\n",
    "    \n",
    "    print(f\"{name}  with accuracy : {accuracy_score(Y_test,ypred)}\")"
   ]
  }
 ],
 "metadata": {
  "kernelspec": {
   "display_name": "Python 3",
   "language": "python",
   "name": "python3"
  },
  "language_info": {
   "codemirror_mode": {
    "name": "ipython",
    "version": 3
   },
   "file_extension": ".py",
   "mimetype": "text/x-python",
   "name": "python",
   "nbconvert_exporter": "python",
   "pygments_lexer": "ipython3",
   "version": "3.10.12"
  },
  "papermill": {
   "default_parameters": {},
   "duration": 9.16266,
   "end_time": "2023-10-10T05:44:18.871842",
   "environment_variables": {},
   "exception": null,
   "input_path": "__notebook__.ipynb",
   "output_path": "__notebook__.ipynb",
   "parameters": {},
   "start_time": "2023-10-10T05:44:09.709182",
   "version": "2.4.0"
  }
 },
 "nbformat": 4,
 "nbformat_minor": 5
}
